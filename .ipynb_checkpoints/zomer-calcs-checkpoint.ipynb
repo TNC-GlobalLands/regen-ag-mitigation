{
 "cells": [
  {
   "cell_type": "code",
   "execution_count": null,
   "metadata": {},
   "outputs": [],
   "source": [
    "# Add imports\n",
    "import geopandas as gpd\n",
    "from osgeo import gdal\n",
    "from rasterstats import zonal_stats\n",
    "import numpy as np\n",
    "import rasterio as rio\n",
    "\n",
    "import earthpy as et\n",
    "import earthpy.spatial as es\n",
    "import earthpy.plot as ep"
   ]
  },
  {
   "cell_type": "code",
   "execution_count": 2,
   "metadata": {},
   "outputs": [],
   "source": [
    "# Read in country shapefile\n",
    "path = '../data/ne_110m_admin_0_countries/ne_110m_admin_0_countries.shp'\n",
    "country = gpd.read_file(path)"
   ]
  },
  {
   "cell_type": "code",
   "execution_count": 4,
   "metadata": {},
   "outputs": [],
   "source": [
    "# Read in GeoTiffs\n",
    "hipath = \"../data/increase_per_grid_cell-high/tc_dif_hi.tif\"\n",
    "medpath = \"../data/increase_per_grid_cell-medium/tc_dif_me.tif\"\n",
    "\n",
    "# Open the file:\n",
    "hiSOC = gdal.Open(hipath)\n",
    "medOC = gdal.Open(medpath)"
   ]
  },
  {
   "cell_type": "code",
   "execution_count": 12,
   "metadata": {},
   "outputs": [],
   "source": [
    "hipath = \"../data/increase_per_grid_cell-high/tc_dif_hi.tif\"\n",
    "medpath = \"../data/increase_per_grid_cell-medium/tc_dif_me.tif\"\n",
    "\n",
    "hi = rio.open(hipath) \n",
    "med = rio.open(medpath) "
   ]
  },
  {
   "cell_type": "code",
   "execution_count": null,
   "metadata": {},
   "outputs": [],
   "source": [
    "hiSOC = hi.read()"
   ]
  },
  {
   "cell_type": "code",
   "execution_count": null,
   "metadata": {},
   "outputs": [],
   "source": [
    "medSOC = med.read()"
   ]
  },
  {
   "cell_type": "code",
   "execution_count": 10,
   "metadata": {},
   "outputs": [
    {
     "ename": "TypeError",
     "evalue": "unsupported operand type(s) for /: 'DatasetReader' and 'int'",
     "output_type": "error",
     "traceback": [
      "\u001b[0;31m---------------------------------------------------------------------------\u001b[0m",
      "\u001b[0;31mTypeError\u001b[0m                                 Traceback (most recent call last)",
      "\u001b[0;32m<ipython-input-10-f2deb9990ea3>\u001b[0m in \u001b[0;36m<module>\u001b[0;34m\u001b[0m\n\u001b[1;32m      1\u001b[0m \u001b[0;31m# Calculate gains per area\u001b[0m\u001b[0;34m\u001b[0m\u001b[0;34m\u001b[0m\u001b[0;34m\u001b[0m\u001b[0m\n\u001b[0;32m----> 2\u001b[0;31m \u001b[0mmedSOC\u001b[0m \u001b[0;34m=\u001b[0m \u001b[0mmedSOC\u001b[0m \u001b[0;34m/\u001b[0m \u001b[0;36m100\u001b[0m\u001b[0;34m\u001b[0m\u001b[0;34m\u001b[0m\u001b[0m\n\u001b[0m",
      "\u001b[0;31mTypeError\u001b[0m: unsupported operand type(s) for /: 'DatasetReader' and 'int'"
     ]
    }
   ],
   "source": [
    "# Calculate gains per area\n",
    "medSOC = medSOC / 100"
   ]
  },
  {
   "cell_type": "code",
   "execution_count": null,
   "metadata": {},
   "outputs": [],
   "source": [
    "show(hiSOC)"
   ]
  },
  {
   "cell_type": "code",
   "execution_count": null,
   "metadata": {},
   "outputs": [],
   "source": [
    "# Compute zonal statistics\n",
    "hiMeanSOC = zonal_stats(country, hiSOC)\n",
    "medMeanSOC = zonal_stats(country, medSOC)"
   ]
  }
 ],
 "metadata": {
  "kernelspec": {
   "display_name": "Python 3",
   "language": "python",
   "name": "python3"
  },
  "language_info": {
   "codemirror_mode": {
    "name": "ipython",
    "version": 3
   },
   "file_extension": ".py",
   "mimetype": "text/x-python",
   "name": "python",
   "nbconvert_exporter": "python",
   "pygments_lexer": "ipython3",
   "version": "3.7.7"
  }
 },
 "nbformat": 4,
 "nbformat_minor": 4
}
